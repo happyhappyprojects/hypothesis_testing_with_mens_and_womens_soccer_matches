{
 "cells": [
  {
   "cell_type": "markdown",
   "id": "3ed0edb2-696b-49ab-9db0-681defcce695",
   "metadata": {},
   "source": [
    "Perform an appropriate hypothesis test to determine the p-value, and hence result, of whether to reject or fail to reject **the null hypothesis that the mean number of goals scored in women's international soccer matches is the same as men's**. Use a 10% significance level.\n",
    "\n",
    "For this analysis, you'll use Official FIFA World Cup matches since 2002-01-01, and you'll also assume that each match is fully independent, i.e., team form is ignored.\n",
    "\n",
    "The p-value and the result of the test must be stored in a dictionary called result_dict in the form:\n",
    "\n",
    "result_dict = {\"p_val\": p_val, \"result\": result}\n",
    "\n",
    "where p_val is the p-value and result is either the string \"fail to reject\" or \"reject\", depending on the result of the test."
   ]
  },
  {
   "cell_type": "code",
   "execution_count": 1,
   "id": "84a3c4c8-534b-4d1a-9919-17e05208b2ca",
   "metadata": {
    "executionCancelledAt": null,
    "executionTime": 49,
    "lastExecutedAt": 1743109064985,
    "lastExecutedByKernel": "fbd5b57a-b7c6-41a7-beb3-0e2b8be2edac",
    "lastScheduledRunId": null,
    "lastSuccessfullyExecutedCode": "# Start your code here!\nimport pandas as pd\nimport pingouin\nimport matplotlib.pyplot as plt\nimport seaborn as sns\n\n# Configure\npd.set_option('display.max_rows', None)\npd.set_option('display.max_columns', None)\nplt.style.use('ggplot')"
   },
   "outputs": [],
   "source": [
    "# Start your code here!\n",
    "import pandas as pd\n",
    "import pingouin\n",
    "import matplotlib.pyplot as plt\n",
    "import seaborn as sns\n",
    "import numpy as np\n",
    "\n",
    "# Configure\n",
    "pd.set_option('display.max_rows', None)\n",
    "pd.set_option('display.max_columns', None)\n",
    "plt.style.use('ggplot')"
   ]
  },
  {
   "cell_type": "code",
   "execution_count": 2,
   "id": "ca587228-c1ca-4acb-82a5-631e4f844b3c",
   "metadata": {
    "executionCancelledAt": null,
    "executionTime": 64,
    "lastExecutedAt": 1743109065050,
    "lastExecutedByKernel": "fbd5b57a-b7c6-41a7-beb3-0e2b8be2edac",
    "lastScheduledRunId": null,
    "lastSuccessfullyExecutedCode": "# Read data\nwomen_results = pd.read_csv('women_results.csv',index_col='date',parse_dates=True)\nmen_results = pd.read_csv('men_results.csv',index_col='date',parse_dates=True)\n\nprint(women_results.head())\nprint(men_results.head())",
    "outputsMetadata": {
     "0": {
      "height": 479,
      "type": "stream"
     }
    }
   },
   "outputs": [
    {
     "name": "stdout",
     "output_type": "stream",
     "text": [
      "            Unnamed: 0 home_team  away_team  home_score  away_score  \\\n",
      "date                                                                  \n",
      "1969-11-01           0     Italy     France           1           0   \n",
      "1969-11-01           1   Denmark    England           4           3   \n",
      "1969-11-02           2   England     France           2           0   \n",
      "1969-11-02           3     Italy    Denmark           3           1   \n",
      "1975-08-25           4  Thailand  Australia           3           2   \n",
      "\n",
      "                  tournament  \n",
      "date                          \n",
      "1969-11-01              Euro  \n",
      "1969-11-01              Euro  \n",
      "1969-11-02              Euro  \n",
      "1969-11-02              Euro  \n",
      "1975-08-25  AFC Championship  \n",
      "            Unnamed: 0 home_team away_team  home_score  away_score tournament\n",
      "date                                                                         \n",
      "1872-11-30           0  Scotland   England           0           0   Friendly\n",
      "1873-03-08           1   England  Scotland           4           2   Friendly\n",
      "1874-03-07           2  Scotland   England           2           1   Friendly\n",
      "1875-03-06           3   England  Scotland           2           2   Friendly\n",
      "1876-03-04           4  Scotland   England           3           0   Friendly\n"
     ]
    }
   ],
   "source": [
    "# Read data\n",
    "women_results = pd.read_csv('data/women_results.csv',index_col='date',parse_dates=True)\n",
    "men_results = pd.read_csv('data/men_results.csv',index_col='date',parse_dates=True)\n",
    "\n",
    "print(women_results.head())\n",
    "print(men_results.head())"
   ]
  },
  {
   "cell_type": "code",
   "execution_count": 3,
   "id": "19206de9-b921-40a0-833d-e6ccbda9531b",
   "metadata": {
    "executionCancelledAt": null,
    "executionTime": 51,
    "lastExecutedAt": 1743109065101,
    "lastExecutedByKernel": "fbd5b57a-b7c6-41a7-beb3-0e2b8be2edac",
    "lastScheduledRunId": null,
    "lastSuccessfullyExecutedCode": "# Remove meaningless columns\nwomen_res = women_results.drop(columns='Unnamed: 0')\nmen_res = men_results.drop(columns='Unnamed: 0')",
    "outputsMetadata": {
     "0": {
      "height": 38,
      "type": "stream"
     }
    }
   },
   "outputs": [],
   "source": [
    "# Remove meaningless columns\n",
    "women_res = women_results.drop(columns='Unnamed: 0')\n",
    "men_res = men_results.drop(columns='Unnamed: 0')"
   ]
  },
  {
   "cell_type": "code",
   "execution_count": 4,
   "id": "e80f76de-f13d-435e-b638-a32840b9f805",
   "metadata": {
    "executionCancelledAt": null,
    "executionTime": 56,
    "lastExecutedAt": 1743109065158,
    "lastExecutedByKernel": "fbd5b57a-b7c6-41a7-beb3-0e2b8be2edac",
    "lastScheduledRunId": null,
    "lastSuccessfullyExecutedCode": "# Inspect\nprint(women_res.info())\nprint(men_res.info())",
    "outputsMetadata": {
     "0": {
      "height": 563,
      "type": "stream"
     }
    }
   },
   "outputs": [
    {
     "name": "stdout",
     "output_type": "stream",
     "text": [
      "<class 'pandas.core.frame.DataFrame'>\n",
      "DatetimeIndex: 4884 entries, 1969-11-01 to 2022-07-31\n",
      "Data columns (total 5 columns):\n",
      " #   Column      Non-Null Count  Dtype \n",
      "---  ------      --------------  ----- \n",
      " 0   home_team   4884 non-null   object\n",
      " 1   away_team   4884 non-null   object\n",
      " 2   home_score  4884 non-null   int64 \n",
      " 3   away_score  4884 non-null   int64 \n",
      " 4   tournament  4884 non-null   object\n",
      "dtypes: int64(2), object(3)\n",
      "memory usage: 228.9+ KB\n",
      "None\n",
      "<class 'pandas.core.frame.DataFrame'>\n",
      "DatetimeIndex: 44353 entries, 1872-11-30 to 2022-12-18\n",
      "Data columns (total 5 columns):\n",
      " #   Column      Non-Null Count  Dtype \n",
      "---  ------      --------------  ----- \n",
      " 0   home_team   44353 non-null  object\n",
      " 1   away_team   44353 non-null  object\n",
      " 2   home_score  44353 non-null  int64 \n",
      " 3   away_score  44353 non-null  int64 \n",
      " 4   tournament  44353 non-null  object\n",
      "dtypes: int64(2), object(3)\n",
      "memory usage: 2.0+ MB\n",
      "None\n"
     ]
    }
   ],
   "source": [
    "# Inspect\n",
    "print(women_res.info())\n",
    "print(men_res.info())"
   ]
  },
  {
   "cell_type": "code",
   "execution_count": 5,
   "id": "1c9df5bf-d7db-45d5-8355-fc38c9d48dd1",
   "metadata": {
    "executionCancelledAt": null,
    "executionTime": 52,
    "lastExecutedAt": 1743109065210,
    "lastExecutedByKernel": "fbd5b57a-b7c6-41a7-beb3-0e2b8be2edac",
    "lastScheduledRunId": null,
    "lastSuccessfullyExecutedCode": "# # Inspect\n# print(women_res['tournament'].unique(),'\\n')\n# print(men_res['tournament'].unique())",
    "outputsMetadata": {
     "0": {
      "height": 566,
      "type": "stream"
     }
    }
   },
   "outputs": [],
   "source": [
    "# # Inspect\n",
    "# print(women_res['tournament'].unique(),'\\n')\n",
    "# print(men_res['tournament'].unique())"
   ]
  },
  {
   "cell_type": "code",
   "execution_count": 6,
   "id": "1c94195a-66e3-493c-b0cc-0fb21ea3a0bb",
   "metadata": {
    "executionCancelledAt": null,
    "executionTime": 58,
    "lastExecutedAt": 1743109065269,
    "lastExecutedByKernel": "fbd5b57a-b7c6-41a7-beb3-0e2b8be2edac",
    "lastScheduledRunId": null,
    "lastSuccessfullyExecutedCode": "# Subset the data to the wanted range\n# Subset: =='FIFA World Cup'\nwomen_res = women_res[women_res['tournament']=='FIFA World Cup']\nmen_res = men_res[men_res['tournament']=='FIFA World Cup']\n\n# Subset: <'2002-01-01'\nwomen_res = women_res.loc['2002-01-01':]\nmen_res = men_res.loc['2002-01-01':]"
   },
   "outputs": [],
   "source": [
    "# Subset the data to the wanted range\n",
    "# Subset: =='FIFA World Cup'\n",
    "women_res = women_res[women_res['tournament']=='FIFA World Cup']\n",
    "men_res = men_res[men_res['tournament']=='FIFA World Cup']\n",
    "\n",
    "# Subset: <'2002-01-01'\n",
    "women_res = women_res.loc['2002-01-01':]\n",
    "men_res = men_res.loc['2002-01-01':]"
   ]
  },
  {
   "cell_type": "code",
   "execution_count": 7,
   "id": "3b506d65-d840-4ddf-8d8f-b74981b14595",
   "metadata": {
    "executionCancelledAt": null,
    "executionTime": 57,
    "lastExecutedAt": 1743109065328,
    "lastExecutedByKernel": "fbd5b57a-b7c6-41a7-beb3-0e2b8be2edac",
    "lastScheduledRunId": null,
    "lastSuccessfullyExecutedCode": "# Inspect\nprint(women_res.info())\nprint(men_res.info())",
    "outputsMetadata": {
     "0": {
      "height": 563,
      "type": "stream"
     }
    }
   },
   "outputs": [
    {
     "name": "stdout",
     "output_type": "stream",
     "text": [
      "<class 'pandas.core.frame.DataFrame'>\n",
      "DatetimeIndex: 200 entries, 2003-09-20 to 2019-07-07\n",
      "Data columns (total 5 columns):\n",
      " #   Column      Non-Null Count  Dtype \n",
      "---  ------      --------------  ----- \n",
      " 0   home_team   200 non-null    object\n",
      " 1   away_team   200 non-null    object\n",
      " 2   home_score  200 non-null    int64 \n",
      " 3   away_score  200 non-null    int64 \n",
      " 4   tournament  200 non-null    object\n",
      "dtypes: int64(2), object(3)\n",
      "memory usage: 9.4+ KB\n",
      "None\n",
      "<class 'pandas.core.frame.DataFrame'>\n",
      "DatetimeIndex: 384 entries, 2002-05-31 to 2022-12-18\n",
      "Data columns (total 5 columns):\n",
      " #   Column      Non-Null Count  Dtype \n",
      "---  ------      --------------  ----- \n",
      " 0   home_team   384 non-null    object\n",
      " 1   away_team   384 non-null    object\n",
      " 2   home_score  384 non-null    int64 \n",
      " 3   away_score  384 non-null    int64 \n",
      " 4   tournament  384 non-null    object\n",
      "dtypes: int64(2), object(3)\n",
      "memory usage: 18.0+ KB\n",
      "None\n"
     ]
    }
   ],
   "source": [
    "# Inspect\n",
    "print(women_res.info())\n",
    "print(men_res.info())"
   ]
  },
  {
   "cell_type": "code",
   "execution_count": 8,
   "id": "22507d7c-e779-40c5-b7e4-a592c35efe79",
   "metadata": {
    "executionCancelledAt": null,
    "executionTime": 63,
    "lastExecutedAt": 1743109065391,
    "lastExecutedByKernel": "fbd5b57a-b7c6-41a7-beb3-0e2b8be2edac",
    "lastScheduledRunId": null,
    "lastSuccessfullyExecutedCode": "# Calculate scores\nwomen_res['score'] = women_res['home_score'] + women_res['away_score']\nmen_res['score'] = men_res['home_score'] + men_res['away_score']\n\n# Summarzie\nwomen_summary = women_res.describe()\nprint(f\"Women: \\n {women_summary}\")\n\nmen_summary = men_res.describe()\nprint(f\"Men: \\n {men_summary}\")",
    "outputsMetadata": {
     "0": {
      "height": 437,
      "type": "stream"
     }
    }
   },
   "outputs": [
    {
     "name": "stdout",
     "output_type": "stream",
     "text": [
      "Women: \n",
      "        home_score  away_score       score\n",
      "count  200.000000  200.000000  200.000000\n",
      "mean     1.805000    1.175000    2.980000\n",
      "std      1.937977    1.289453    2.022387\n",
      "min      0.000000    0.000000    0.000000\n",
      "25%      1.000000    0.000000    2.000000\n",
      "50%      1.000000    1.000000    3.000000\n",
      "75%      2.000000    2.000000    4.000000\n",
      "max     13.000000    7.000000   13.000000\n",
      "Men: \n",
      "        home_score  away_score       score\n",
      "count  384.000000  384.000000  384.000000\n",
      "mean     1.375000    1.138021    2.513021\n",
      "std      1.328538    1.107398    1.652544\n",
      "min      0.000000    0.000000    0.000000\n",
      "25%      0.000000    0.000000    1.000000\n",
      "50%      1.000000    1.000000    2.000000\n",
      "75%      2.000000    2.000000    3.000000\n",
      "max      8.000000    7.000000    8.000000\n"
     ]
    }
   ],
   "source": [
    "# Calculate scores\n",
    "women_res['score'] = women_res['home_score'] + women_res['away_score']\n",
    "men_res['score'] = men_res['home_score'] + men_res['away_score']\n",
    "\n",
    "# Summarzie\n",
    "women_summary = women_res.describe()\n",
    "print(f\"Women: \\n {women_summary}\")\n",
    "\n",
    "men_summary = men_res.describe()\n",
    "print(f\"Men: \\n {men_summary}\")"
   ]
  },
  {
   "cell_type": "code",
   "execution_count": 9,
   "id": "d9c07774-5989-4b16-aa23-9e571c0c421f",
   "metadata": {
    "executionCancelledAt": null,
    "executionTime": 641,
    "lastExecutedAt": 1743109066032,
    "lastExecutedByKernel": "fbd5b57a-b7c6-41a7-beb3-0e2b8be2edac",
    "lastScheduledRunId": null,
    "lastSuccessfullyExecutedCode": "# Plot distribution to check normality \nsns.displot(women_res['score'],bins=20)\nplt.title('Women Score Histogram')\nplt.show();\n\nsns.displot(men_res['score'],bins=20)\nplt.title('Men Score Histogram')\nplt.show();"
   },
   "outputs": [
    {
     "data": {
      "image/png": "[encoded data removed]",
      "text/plain": [
       "<Figure size 576x432 with 1 Axes>"
      ]
     },
     "metadata": {
      "needs_background": "light"
     },
     "output_type": "display_data"
    }
   ],
   "source": [
    "# Plot distribution to check normality \n",
    "fig, ax = plt.subplots(figsize=(8,6))\n",
    "sns.histplot(women_res['score'], bins=20, ax=ax)\n",
    "plt.title('Women Score Histogram')\n",
    "plt.show();"
   ]
  },
  {
   "cell_type": "code",
   "execution_count": 10,
   "id": "0e0ea6d4",
   "metadata": {},
   "outputs": [
    {
     "data": {
      "image/png": "[encoded data removed]",
      "text/plain": [
       "<Figure size 576x432 with 1 Axes>"
      ]
     },
     "metadata": {
      "needs_background": "light"
     },
     "output_type": "display_data"
    }
   ],
   "source": [
    "fig, ax = plt.subplots(figsize=(8,6))\n",
    "sns.histplot(men_res['score'], bins=20, ax=ax)\n",
    "plt.title('Men Score Histogram')\n",
    "plt.show();"
   ]
  },
  {
   "cell_type": "code",
   "execution_count": 11,
   "id": "ba39cd85-752a-42f7-89e0-d707426b580f",
   "metadata": {
    "executionCancelledAt": null,
    "executionTime": 53,
    "lastExecutedAt": 1743109066085,
    "lastExecutedByKernel": "fbd5b57a-b7c6-41a7-beb3-0e2b8be2edac",
    "lastScheduledRunId": null,
    "lastSuccessfullyExecutedCode": "# set significants level\nsig_lvl=0.1\n\n# Wilcoxon-Mann-Whitney test \n# (nonparametric alternative to 2 sample unpaired t test)\nmwu_res = pingouin.mwu(x=women_res['score'],y=men_res['score'],alternative='greater')\nprint(mwu_res)\n\ndef conclude(pv, signficance_level=0.05):\n    if pv >= signficance_level:\n        return 'fail to reject'\n    if pv < signficance_level:\n        return 'reject'\nresult_dict = {'p_val':mwu_res['p-val'][0], 'result':conclude(mwu_res['p-val'][0], signficance_level=sig_lvl)}\nprint(result_dict)",
    "outputsMetadata": {
     "0": {
      "height": 80,
      "type": "stream"
     }
    }
   },
   "outputs": [
    {
     "name": "stdout",
     "output_type": "stream",
     "text": [
      "       U-val alternative     p-val       RBC      CLES\n",
      "MWU  43273.0     greater  0.005107  0.126901  0.563451\n",
      "{'p_val': 0.005106609825443641, 'result': 'reject'}\n"
     ]
    }
   ],
   "source": [
    "# set significants level\n",
    "sig_lvl=0.1\n",
    "\n",
    "# Wilcoxon-Mann-Whitney test \n",
    "# (nonparametric alternative to 2 sample unpaired t test)\n",
    "mwu_res = pingouin.mwu(x=women_res['score'],y=men_res['score'],alternative='greater')\n",
    "print(mwu_res)\n",
    "\n",
    "def conclude(pv, signficance_level=0.05):\n",
    "    if pv >= signficance_level:\n",
    "        return 'fail to reject'\n",
    "    if pv < signficance_level:\n",
    "        return 'reject'\n",
    "result_dict = {'p_val':mwu_res['p-val'].iloc[0], 'result':conclude(mwu_res['p-val'].iloc[0], signficance_level=sig_lvl)}\n",
    "print(result_dict)"
   ]
  },
  {
   "cell_type": "markdown",
   "id": "b2e8f7fd",
   "metadata": {},
   "source": [
    "##### Recall\n",
    "$H_0$ : The mean number of goals scored in women's international soccer matches is the same as men's.\n",
    "\n",
    "$H_A$ : The mean number of goals scored in women's international soccer matches is greater than men's."
   ]
  },
  {
   "cell_type": "code",
   "execution_count": 12,
   "id": "16e50bc8-c052-4ba5-ba32-59277a665ae5",
   "metadata": {
    "executionCancelledAt": null,
    "executionTime": 51,
    "lastExecutedAt": 1743109066190,
    "lastExecutedByKernel": "fbd5b57a-b7c6-41a7-beb3-0e2b8be2edac",
    "lastScheduledRunId": null,
    "lastSuccessfullyExecutedCode": "# Conclusion\ncomment = f\"According to the Wilcoxon-Mann-Whitney test, woman's scores and men' scores are not the same. From the summary above we know men's averge score is {men_summary.loc['mean','score']:.2f}, lower than women's score {women_summary.loc['mean','score']:.2f}. In conclusion, goals scored in women's international soccer matches are more than men's\" \nprint(comment)",
    "outputsMetadata": {
     "0": {
      "height": 80,
      "type": "stream"
     }
    }
   },
   "outputs": [
    {
     "name": "stdout",
     "output_type": "stream",
     "text": [
      "Since the Wilcoxon-Mann-Whitney test rejects the null hypothesis at the 10% significant level, \n",
      "the conclusion is the alternaive hypothesis, that The mean number of goals scored in women's international soccer matches \n",
      "is greater than men's.\n"
     ]
    }
   ],
   "source": [
    "# Conclusion\n",
    "comment = f\"Since the Wilcoxon-Mann-Whitney test rejects the null hypothesis at the 10% significant level, \\nthe conclusion is the alternaive hypothesis, that The mean number of goals scored in women's international soccer matches \\nis greater than men's.\"\n",
    "print(comment)"
   ]
  }
 ],
 "metadata": {
  "colab": {
   "name": "Welcome to DataCamp Workspaces.ipynb",
   "provenance": []
  },
  "kernelspec": {
   "display_name": "credit_card_kernel",
   "language": "python",
   "name": "credit_card_kernel"
  },
  "language_info": {
   "codemirror_mode": {
    "name": "ipython",
    "version": 3
   },
   "file_extension": ".py",
   "mimetype": "text/x-python",
   "name": "python",
   "nbconvert_exporter": "python",
   "pygments_lexer": "ipython3",
   "version": "3.9.5"
  }
 },
 "nbformat": 4,
 "nbformat_minor": 5
}
